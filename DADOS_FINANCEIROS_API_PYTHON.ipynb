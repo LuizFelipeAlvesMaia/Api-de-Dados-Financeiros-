{
  "nbformat": 4,
  "nbformat_minor": 0,
  "metadata": {
    "colab": {
      "provenance": [],
      "authorship_tag": "ABX9TyNbMYyvMGL9jJF4GKmHkUgL",
      "include_colab_link": true
    },
    "kernelspec": {
      "name": "python3",
      "display_name": "Python 3"
    },
    "language_info": {
      "name": "python"
    }
  },
  "cells": [
    {
      "cell_type": "markdown",
      "metadata": {
        "id": "view-in-github",
        "colab_type": "text"
      },
      "source": [
        "<a href=\"https://colab.research.google.com/github/LuizFelipeAlvesMaia/Api-de-Dados-Financeiros-/blob/main/DADOS_FINANCEIROS_API_PYTHON.ipynb\" target=\"_parent\"><img src=\"https://colab.research.google.com/assets/colab-badge.svg\" alt=\"Open In Colab\"/></a>"
      ]
    },
    {
      "cell_type": "code",
      "execution_count": null,
      "metadata": {
        "id": "jlBKRh9K_w6D"
      },
      "outputs": [],
      "source": [
        "import requests\n",
        "\n",
        "url = 'https://api.hgbrasil.com/finance'\n",
        "resposta = requests.get(url)\n",
        "if (resposta.status_code == 200):\n",
        "  name = resposta.json()['results']['currencies']['EUR']['name']\n",
        "  compra = resposta.json()['results']['currencies']['EUR']['buy']\n",
        "  venda = resposta.json()['results']['currencies']['EUR']['name']\n",
        "  print('Nome da moeda:',name)\n",
        "  print('Valor de compra:',compra)\n",
        "  print('Valor de venda:',venda)"
      ]
    }
  ]
}